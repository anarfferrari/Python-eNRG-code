{
 "cells": [
  {
   "cell_type": "code",
   "execution_count": 1,
   "metadata": {},
   "outputs": [],
   "source": [
    "import numpy as np\n",
    "from matplotlib import pyplot as plt\n",
    "from scipy.interpolate import interp1d\n",
    "from scipy import stats\n",
    "plt.style.use(\"ggplot\")\n",
    "%matplotlib notebook\n"
   ]
  },
  {
   "cell_type": "code",
   "execution_count": 5,
   "metadata": {},
   "outputs": [],
   "source": [
    "def z_averaging(n):\n",
    "    L0 = np.loadtxt(\"resultados/resultados\"+str(n)+\"/L0_.txt\")\n",
    "    L0z = np.loadtxt(\"resultados/resultados\"+str(n)+\"/L0_Z.txt\")\n",
    "    \n",
    "    L1 = np.loadtxt(\"resultados/resultados\"+str(n)+\"/L1_.txt\")\n",
    "    L1z = np.loadtxt(\"resultados/resultados\"+str(n)+\"/L1_Z.txt\")\n",
    "    \n",
    "    L2 = np.loadtxt(\"resultados/resultados\"+str(n)+\"/L2_.txt\")\n",
    "    L2z = np.loadtxt(\"resultados/resultados\"+str(n)+\"/L2_Z.txt\")\n",
    "    \n",
    "    L01 = np.loadtxt(\"resultados/resultados\"+str(n)+\"/L01_.txt\")\n",
    "    L01z = np.loadtxt(\"resultados/resultados\"+str(n)+\"/L01_Z.txt\")\n",
    "    \n",
    "    fL0 = interp1d(L0[:,0], L0[:,1], \"cubic\", fill_value=\"extrapolate\")\n",
    "    fL0z = interp1d(L0z[:,0], L0z[:,1], \"cubic\", fill_value=\"extrapolate\")\n",
    "    \n",
    "    fL1 = interp1d(L1[:,0], L1[:,1], \"cubic\", fill_value=\"extrapolate\")\n",
    "    fL1z = interp1d(L1z[:,0], L1z[:,1], \"cubic\", fill_value=\"extrapolate\")\n",
    "    \n",
    "    fL2 = interp1d(L2[:,0], L2[:,1], \"cubic\", fill_value=\"extrapolate\")\n",
    "    fL2z = interp1d(L2z[:,0], L2z[:,1], \"cubic\", fill_value=\"extrapolate\")\n",
    "    \n",
    "    fL01 = interp1d(L01[:,0], L01[:,1], \"cubic\", fill_value=\"extrapolate\")\n",
    "    fL01z = interp1d(L01z[:,0], L01z[:,1], \"cubic\", fill_value=\"extrapolate\")\n",
    "    \n",
    "    min_ = np.amax([L01z[:,0][-1],L01[:,0][-1],L0[:,0][-1], L0z[:,0][-1], L1[:,0][-1], L1z[:,0][-1], L2[:,0][-1], L2z[:,0][-1]])\n",
    "    max_ = np.amax([L0[:,0][0], L0z[:,0][0], L1[:,0][0], L1z[:,0][0], L2[:,0][0], L2z[:,0][0]])\n",
    "    \n",
    "    ##############################################################\n",
    "    T = np.logspace(np.log(min_), np.log(max_)-3, num = 5000, base = np.e)\n",
    "    indexTk = np.where(abs((fL0z(T) + fL0(T))/2 - 0.5)<0.001)[0]\n",
    "    indexTk = indexTk[len(indexTk)//2]\n",
    "    Tk = T[indexTk] \n",
    "    \n",
    "    print(Tk)\n",
    "    ##############################################################\n",
    "    \n",
    "    T = np.logspace(np.log(min_), np.log(0.01), num = 200, base = np.e)\n",
    "    G = (fL0(T) + fL0z(T))/2\n",
    "    S = - (fL1(T) + fL1z(T))/(fL0(T) + fL0z(T))\n",
    "    K = (fL2(T) + fL2z(T))/2 - 0.5*(fL1(T) + fL1z(T))**2/(fL0(T) + fL0z(T))\n",
    "    L1 = (fL1(T) + fL1z(T))/2\n",
    "    L2 = (fL2(T) + fL2z(T))/2\n",
    "    L01 = (fL01(T) - fL01z(T))/2\n",
    "    WF = (fL2(T) + fL2z(T))/(fL0(T) + fL0z(T)) - ((fL1(T) + fL1z(T))**2/(fL0(T) + fL0z(T))**2)\n",
    "    save_files(n, T/Tk, G, S, K, L1, L2, WF, L01)\n",
    "    \n",
    "    return  T/Tk, G, S, K, L1, L2, WF, L01\n",
    "\n",
    "    \n",
    "    "
   ]
  },
  {
   "cell_type": "code",
   "execution_count": 6,
   "metadata": {},
   "outputs": [],
   "source": [
    "def save_files(n, T_Tk, G, S, K, L1, L2, WF, L01):\n",
    "    file = open(\"resultados/resultados\" + str(n) +\"/final/conductance\" + str(n) + \".txt\", \"w+\")\n",
    "    np.savetxt(file, np.c_[T_Tk, G])\n",
    "    file.close()\n",
    "    \n",
    "    file = open(\"resultados/resultados\" + str(n) +\"/final/thermopower\" + str(n) + \".txt\", \"w+\")\n",
    "    np.savetxt(file, np.c_[T_Tk, S])\n",
    "    file.close()\n",
    "    \n",
    "    file = open(\"resultados/resultados\" + str(n) +\"/final/thermal_conductance\" + str(n) + \".txt\", \"w+\")\n",
    "    np.savetxt(file, np.c_[T_Tk, K])\n",
    "    file.close()\n",
    "    \n",
    "    file = open(\"resultados/resultados\" + str(n) +\"/final/L1\" + str(n) + \".txt\", \"w+\")\n",
    "    np.savetxt(file, np.c_[T_Tk, L1])\n",
    "    file.close()\n",
    "    \n",
    "    file = open(\"resultados/resultados\" + str(n) +\"/final/L2\" + str(n) + \".txt\", \"w+\")\n",
    "    np.savetxt(file, np.c_[T_Tk, L2])\n",
    "    file.close()\n",
    "    \n",
    "    file = open(\"resultados/resultados\" + str(n) +\"/final/WF\" + str(n) + \".txt\", \"w+\")\n",
    "    np.savetxt(file, np.c_[T_Tk, WF])\n",
    "    file.close()\n",
    "    \n",
    "    if n == 1:\n",
    "        file = open(\"resultados/resultados\" + str(n) +\"/final/L01\" + str(n) + \".txt\", \"w+\")\n",
    "        np.savetxt(file, np.c_[T_Tk, L01])\n",
    "        file.close()"
   ]
  },
  {
   "cell_type": "code",
   "execution_count": 7,
   "metadata": {},
   "outputs": [
    {
     "name": "stdout",
     "output_type": "stream",
     "text": [
      "6.420397822395604e-05\n",
      "6.420397822395604e-05\n"
     ]
    }
   ],
   "source": [
    "T, G, S, K, L1, L2, WF, L01 = z_averaging(2)\n",
    "T1, G1, S, K, L1, L2, WF, L01 = z_averaging(2)\n"
   ]
  }
 ],
 "metadata": {
  "kernelspec": {
   "display_name": "Python 3",
   "language": "python",
   "name": "python3"
  },
  "language_info": {
   "codemirror_mode": {
    "name": "ipython",
    "version": 3
   },
   "file_extension": ".py",
   "mimetype": "text/x-python",
   "name": "python",
   "nbconvert_exporter": "python",
   "pygments_lexer": "ipython3",
   "version": "3.7.12"
  }
 },
 "nbformat": 4,
 "nbformat_minor": 4
}
